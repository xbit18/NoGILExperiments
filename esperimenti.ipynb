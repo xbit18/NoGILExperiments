{
 "cells": [
  {
   "cell_type": "code",
   "execution_count": 3,
   "metadata": {},
   "outputs": [],
   "source": [
    "import subprocess\n",
    "import sys\n",
    "import os\n",
    "from IPython.display import clear_output"
   ]
  },
  {
   "cell_type": "code",
   "execution_count": 4,
   "metadata": {},
   "outputs": [
    {
     "name": "stdout",
     "output_type": "stream",
     "text": [
      "NoGil is not active\n",
      "Threads: 50\n"
     ]
    }
   ],
   "source": [
    "times = {\n",
    "    0:[],\n",
    "    1:[]\n",
    "}\n",
    "\n",
    "for val in [0,1]:\n",
    "    os.environ[\"PYTHONGIL\"] = str(val)\n",
    "    for threads in range(1,51):\n",
    "        clear_output(wait=True)\n",
    "        if val == 0:\n",
    "            print(\"NoGil is active\")\n",
    "        else:\n",
    "            print(\"NoGil is not active\")\n",
    "        print(\"Threads:\", threads)\n",
    "        output = subprocess.check_output(f\"python fib.py {threads}\", shell=True)\n",
    "        tm = float(output.decode(sys.stdout.encoding).replace('\\n',''))\n",
    "        times[val].append(tm)\n"
   ]
  },
  {
   "cell_type": "code",
   "execution_count": 5,
   "metadata": {},
   "outputs": [
    {
     "data": {
      "text/plain": [
       "{0: [0.751,\n",
       "  0.76,\n",
       "  0.763,\n",
       "  0.795,\n",
       "  1.072,\n",
       "  1.394,\n",
       "  1.568,\n",
       "  1.628,\n",
       "  1.84,\n",
       "  2.253,\n",
       "  2.415,\n",
       "  2.753,\n",
       "  2.861,\n",
       "  3.564,\n",
       "  3.995,\n",
       "  3.436,\n",
       "  3.898,\n",
       "  3.703,\n",
       "  3.889,\n",
       "  4.243,\n",
       "  4.55,\n",
       "  4.312,\n",
       "  4.45,\n",
       "  4.636,\n",
       "  5.24,\n",
       "  5.033,\n",
       "  5.269,\n",
       "  5.416,\n",
       "  5.622,\n",
       "  5.989,\n",
       "  6.027,\n",
       "  6.212,\n",
       "  6.383,\n",
       "  6.566,\n",
       "  6.79,\n",
       "  6.976,\n",
       "  7.147,\n",
       "  7.354,\n",
       "  7.573,\n",
       "  7.735,\n",
       "  7.925,\n",
       "  8.118,\n",
       "  8.326,\n",
       "  8.498,\n",
       "  8.753,\n",
       "  9.069,\n",
       "  9.096,\n",
       "  9.326,\n",
       "  9.458,\n",
       "  9.65],\n",
       " 1: [0.756,\n",
       "  1.495,\n",
       "  2.26,\n",
       "  3.029,\n",
       "  3.777,\n",
       "  4.524,\n",
       "  5.289,\n",
       "  6.041,\n",
       "  6.799,\n",
       "  7.561,\n",
       "  8.315,\n",
       "  9.06,\n",
       "  9.804,\n",
       "  10.647,\n",
       "  11.352,\n",
       "  12.152,\n",
       "  12.893,\n",
       "  13.657,\n",
       "  14.395,\n",
       "  15.168,\n",
       "  15.979,\n",
       "  16.684,\n",
       "  17.608,\n",
       "  18.241,\n",
       "  18.972,\n",
       "  19.76,\n",
       "  20.582,\n",
       "  21.328,\n",
       "  22.15,\n",
       "  22.888,\n",
       "  23.663,\n",
       "  24.407,\n",
       "  25.175,\n",
       "  26.078,\n",
       "  27.244,\n",
       "  27.611,\n",
       "  28.361,\n",
       "  29.155,\n",
       "  29.919,\n",
       "  30.613,\n",
       "  31.374,\n",
       "  32.372,\n",
       "  32.932,\n",
       "  33.747,\n",
       "  34.442,\n",
       "  35.406,\n",
       "  36.028,\n",
       "  36.843,\n",
       "  37.78,\n",
       "  38.342]}"
      ]
     },
     "execution_count": 5,
     "metadata": {},
     "output_type": "execute_result"
    }
   ],
   "source": [
    "times"
   ]
  },
  {
   "cell_type": "code",
   "execution_count": 6,
   "metadata": {},
   "outputs": [],
   "source": [
    "import matplotlib.pyplot as plt\n",
    "import matplotlib"
   ]
  },
  {
   "cell_type": "code",
   "execution_count": 7,
   "metadata": {},
   "outputs": [
    {
     "data": {
      "image/png": "[encoded data removed]",
      "text/plain": [
       "<Figure size 504x504 with 1 Axes>"
      ]
     },
     "metadata": {
      "needs_background": "light"
     },
     "output_type": "display_data"
    }
   ],
   "source": [
    "plt.figure(figsize=(7,7))\n",
    "plt.plot(list(range(1,51)), times[0], color=\"blue\")\n",
    "plt.plot(list(range(1,51)), times[1], color=\"orange\")\n",
    "plt.xlabel(\"Number of threads\")\n",
    "plt.ylabel(\"Execution time in seconds\")\n",
    "plt.legend([\"Without GIL\",\"With GIL\"])\n",
    "plt.xlim((0,51))\n",
    "plt.savefig(\"graph.png\")\n",
    "plt.show()"
   ]
  },
  {
   "cell_type": "code",
   "execution_count": null,
   "metadata": {},
   "outputs": [],
   "source": []
  }
 ],
 "metadata": {
  "kernelspec": {
   "display_name": "Python 3 (ipykernel)",
   "language": "python",
   "name": "python3"
  },
  "language_info": {
   "codemirror_mode": {
    "name": "ipython",
    "version": 3
   },
   "file_extension": ".py",
   "mimetype": "text/x-python",
   "name": "python",
   "nbconvert_exporter": "python",
   "pygments_lexer": "ipython3",
   "version": "3.10.12"
  }
 },
 "nbformat": 4,
 "nbformat_minor": 2
}
